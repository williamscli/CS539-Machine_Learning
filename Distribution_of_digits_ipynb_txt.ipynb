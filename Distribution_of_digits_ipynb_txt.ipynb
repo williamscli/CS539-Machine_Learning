{
  "cells": [
    {
      "cell_type": "markdown",
      "metadata": {
        "id": "view-in-github",
        "colab_type": "text"
      },
      "source": [
        "<a href=\"https://colab.research.google.com/github/williamscli/CS539-Machine_Learning/blob/main/Distribution_of_digits_ipynb_txt.ipynb\" target=\"_parent\"><img src=\"https://colab.research.google.com/assets/colab-badge.svg\" alt=\"Open In Colab\"/></a>"
      ]
    },
    {
      "cell_type": "markdown",
      "metadata": {
        "id": "OZeTU26qSXG-"
      },
      "source": [
        "# LAB 1-3\n",
        "\n",
        "\n",
        "## The Distribution of First Digits\n",
        "\n",
        "In this lab, you will explore the distribution of first digits in real data. For example, the first digits of the numbers 52, 30.8, and 0.07 are 5, 3, and 7 respectively. In this lab, you will investigate the question: how frequently does each digit 1-9 appear as the first digit of the number?\n",
        "\n",
        "## Question 0\n",
        "\n",
        "Make a prediction.\n",
        "\n",
        "1. Approximately what percentage of the values do you think will have a _first_ digit of 1? What percentage of the values do you think will have a first digit of 9?\n",
        "2. Approximately what percentage of the values do you think will have a _last_ digit of 1? What percentage of the values do you think will have a last digit of 9?\n",
        "\n",
        "(Don't worry about being wrong. You will earn full credit for any justified answer.)\n",
        "\n",
        "**I would expect the any digit at any position to have a 1/9 chance of appearing, since it one of the possible nine digits available in the combination**\n",
        "\n",
        "## Question 1\n",
        "\n",
        "The [S&P 500](https://en.wikipedia.org/wiki/S%26P_500_Index) is a stock index based on the market capitalizations of large companies that are publicly traded on the NYSE or NASDAQ. The [CSV file](https://raw.githubusercontent.com/dlsun/data-science-book/master/data/sp500.csv) contains data from February 1, 2018 about the stocks that comprise the S&P 500. We will investigate the first digit distributions of the variables in this data set.\n",
        "\n",
        "Read in the S&P 500 data. What is the unit of observation in this data set? Is there a variable that is natural to use as the index? If so, set that variable to be the index. Once you are done, display the `DataFrame`."
      ]
    },
    {
      "cell_type": "code",
      "execution_count": null,
      "metadata": {
        "colab": {
          "base_uri": "https://localhost:8080/"
        },
        "id": "JxU8bXEWSXHA",
        "outputId": "81e02557-935b-4fb2-f1d7-36bde0c68b70"
      },
      "outputs": [
        {
          "output_type": "stream",
          "name": "stdout",
          "text": [
            "date      object\n",
            "Name      object\n",
            "open      object\n",
            "close     object\n",
            "volume     int64\n",
            "dtype: object\n"
          ]
        }
      ],
      "source": [
        "import csv\n",
        "import pandas as pd\n",
        "from matplotlib import pyplot as plt\n",
        "\n",
        "# Read data\n",
        "sp500=pd.read_csv(\"sp500.csv\")\n",
        "\n",
        "# Convert to dataframe\n",
        "sp500=pd.DataFrame(sp500)\n",
        "\n",
        "# Set the Name variable as the index\n",
        "sp500.set_index('Name')\n",
        "\n",
        "# Show data types\n",
        "print(sp500.dtypes)"
      ]
    },
    {
      "cell_type": "markdown",
      "metadata": {
        "id": "pvjsNgbhSXHB"
      },
      "source": [
        "**I am using the \"Name\" variable as my index, because there is a unique ID in the dataset, in other words, the stock name only shows up once. The \"Name\" column is also the unit of observation, because the user would most likely want to understand how a stock or group of stocks performs compared to others.**\n",
        "\n",
        "## Question 2\n",
        "\n",
        "We will start by looking at the `volume` column. This variable tells us how many shares were traded on that date.\n",
        "\n",
        "Extract the first digit of every value in this column. (_Hint:_ First, turn the numbers into strings. Then, use the [text processing functionalities](https://pandas.pydata.org/pandas-docs/stable/text.html) of `pandas` to extract the first character of each string.) Make an appropriate visualization to display the distribution of the first digits. (_Hint:_ Think carefully about whether the variable you are plotting is quantitative or categorical.)\n",
        "\n",
        "How does this compare with what you predicted in Question 0?"
      ]
    },
    {
      "cell_type": "code",
      "execution_count": null,
      "metadata": {
        "colab": {
          "base_uri": "https://localhost:8080/",
          "height": 310
        },
        "id": "L0fmE28KSXHB",
        "outputId": "70ee5164-4484-4987-b905-47fdfb75ded4"
      },
      "outputs": [
        {
          "output_type": "execute_result",
          "data": {
            "text/plain": [
              "Text(0, 0.5, 'Frequency Count')"
            ]
          },
          "metadata": {},
          "execution_count": 13
        },
        {
          "output_type": "display_data",
          "data": {
            "text/plain": [
              "<Figure size 432x288 with 1 Axes>"
            ],
            "image/png": "[encoded data removed]"
          },
          "metadata": {
            "needs_background": "light"
          }
        }
      ],
      "source": [
        "# Convert data to string values\n",
        "sp500=sp500.applymap(str)\n",
        "\n",
        "# Extract the first character of volume string\n",
        "sp500['VolumeInitial'] = sp500['volume'].str[:1]\n",
        "\n",
        "# Print to verify correct value was extracted into VolumeInitial column\n",
        "#print(sp500['volume'][:10])\n",
        "#print(sp500['VolumeInitial'][:10])\n",
        "\n",
        "# Count unique values in volume initial column\n",
        "VolumeInitial=sp500.groupby('VolumeInitial').count()\n",
        "\n",
        "# Bar chart vizualing count by digit\n",
        "VolumeInitial['volume'].plot(kind='bar')\n",
        "plt.title(\"Actual Frequency of First Digit in Volume Column\")\n",
        "plt.xlabel(\"First Digit in Volume\")\n",
        "plt.ylabel(\"Frequency Count\")"
      ]
    },
    {
      "cell_type": "markdown",
      "metadata": {
        "id": "2NPh2RQfSXHB"
      },
      "source": [
        "**This is very different than what I predicted. The number 1 appears significantly more than the rest of the possible values, and in decending order, from 1-9, the values appear less frequently.**\n",
        "\n",
        "## Question 3\n",
        "\n",
        "Now, repeat Question 2, but for the distribution of _last_ digits. Again, make an appropriate visualization and compare with your prediction in Question 0."
      ]
    },
    {
      "cell_type": "code",
      "execution_count": null,
      "metadata": {
        "colab": {
          "base_uri": "https://localhost:8080/",
          "height": 310
        },
        "id": "HL9dgHSGSXHC",
        "outputId": "2f4022f1-6847-4137-8671-77a3ff2a6443"
      },
      "outputs": [
        {
          "output_type": "execute_result",
          "data": {
            "text/plain": [
              "Text(0, 0.5, 'Frequency Count')"
            ]
          },
          "metadata": {},
          "execution_count": 14
        },
        {
          "output_type": "display_data",
          "data": {
            "text/plain": [
              "<Figure size 432x288 with 1 Axes>"
            ],
            "image/png": "[encoded data removed]"
          },
          "metadata": {
            "needs_background": "light"
          }
        }
      ],
      "source": [
        "# Extract the last character of volume string\n",
        "sp500['VolumeLast'] = sp500['volume'].str[-1]\n",
        "\n",
        "# Print to verify correct value was extracted into VolumeLast column\n",
        "#print(sp500['volume'][:10])\n",
        "#print(sp500['VolumeLast'][:10])\n",
        "\n",
        "# Count unique values in volume initial column\n",
        "VolumeLast=sp500.groupby('VolumeLast').count()\n",
        "\n",
        "# Bar chart vizualing count by digit\n",
        "VolumeLast['volume'].plot(kind='bar')\n",
        "plt.title(\"Actual Frequency of Last Digit in Volume Column\")\n",
        "plt.xlabel(\"Last Digit in Volume\")\n",
        "plt.ylabel(\"Frequency Count\")"
      ]
    },
    {
      "cell_type": "markdown",
      "metadata": {
        "id": "9s4OKGNlSXHC"
      },
      "source": [
        "**This is in line with what I predicted, within some margin acceptable error or probabilty.**\n",
        "\n",
        "## Question 4\n",
        "\n",
        "Maybe the `volume` column was just a fluke. Let's see if the first digit distribution holds up when we look at a very different variable: the closing price of the stock. Make a visualization of the first digit distribution of the closing price (the `close` column of the `DataFrame`). Comment on what you see.\n",
        "\n",
        "(_Hint:_ What type did `pandas` infer this variable as and why? You will have to first clean the values using the [text processing functionalities](https://pandas.pydata.org/pandas-docs/stable/text.html) of `pandas` and then convert this variable to a quantitative variable.)"
      ]
    },
    {
      "cell_type": "code",
      "execution_count": null,
      "metadata": {
        "colab": {
          "base_uri": "https://localhost:8080/",
          "height": 310
        },
        "id": "8wvBPySwSXHC",
        "outputId": "b3846223-c4f1-4b85-c9a1-2bae7f8cb69a"
      },
      "outputs": [
        {
          "output_type": "execute_result",
          "data": {
            "text/plain": [
              "Text(0, 0.5, 'Frequency Count')"
            ]
          },
          "metadata": {},
          "execution_count": 15
        },
        {
          "output_type": "display_data",
          "data": {
            "text/plain": [
              "<Figure size 432x288 with 1 Axes>"
            ],
            "image/png": "[encoded data removed]"
          },
          "metadata": {
            "needs_background": "light"
          }
        }
      ],
      "source": [
        "# Extract the first character of close string\n",
        "sp500['CloseInitial'] = sp500['close'].str[1:2]\n",
        "\n",
        "# Print to verify correct value was extracted into CloseInitial column\n",
        "#print(sp500['close'][:10])\n",
        "#print(sp500['CloseInitial'][:10])\n",
        "\n",
        "# Count unique values in close initial column\n",
        "CloseInitial=sp500.groupby('CloseInitial').count()\n",
        "\n",
        "# Bar chart vizualing count by digit\n",
        "CloseInitial['close'].plot(kind='bar')\n",
        "plt.title(\"Actual Frequency of First Digit in Close Column\")\n",
        "plt.xlabel(\"First Digit in Close\")\n",
        "plt.ylabel(\"Frequency Count\")"
      ]
    },
    {
      "cell_type": "code",
      "source": [
        "# Extract the Last character of close string\n",
        "sp500['CloseLast'] = sp500['close'].str[-1]\n",
        "\n",
        "# Print to verify correct value was extracted into CloseLast column\n",
        "#print(sp500['close'][:10])\n",
        "#print(sp500['CloseLast'][:10])\n",
        "\n",
        "# Count unique values in close last column\n",
        "CloseLast=sp500.groupby('CloseLast').count()\n",
        "\n",
        "# Bar chart vizualing count by digit\n",
        "CloseLast['close'].plot(kind='bar')\n",
        "plt.title(\"Actual Frequency of Last Digit in Close Column\")\n",
        "plt.xlabel(\"Last Digit in Close\")\n",
        "plt.ylabel(\"Frequency Count\")"
      ],
      "metadata": {
        "colab": {
          "base_uri": "https://localhost:8080/",
          "height": 310
        },
        "id": "p64sOxVcKC5_",
        "outputId": "cabc9cc0-3be0-43d9-ddf7-4fe933b91264"
      },
      "execution_count": null,
      "outputs": [
        {
          "output_type": "execute_result",
          "data": {
            "text/plain": [
              "Text(0, 0.5, 'Frequency Count')"
            ]
          },
          "metadata": {},
          "execution_count": 16
        },
        {
          "output_type": "display_data",
          "data": {
            "text/plain": [
              "<Figure size 432x288 with 1 Axes>"
            ],
            "image/png": "[encoded data removed]"
          },
          "metadata": {
            "needs_background": "light"
          }
        }
      ]
    },
    {
      "cell_type": "markdown",
      "metadata": {
        "id": "yfnAHcypSXHC"
      },
      "source": [
        "**The \"Close\" bar charts above summarizing the frequency of 1-9 in first and last digits look identical in comparison to the \"Volume\" charts. Why do the first and last value charts show different frequencies for each value? The last number is exactly what I predicted in Question 0, because it is the first number that will change in value when counting up or down. In other words, the ones place has the highest probablity to change or vary since it is the initial position to achieve a higher or lower number.**\n",
        "\n",
        "**As you move higher in digit position order, the variance in the highest digit decreases. Since these values have digits in the hundreds place and up, the variability in the higher order digit positions decreases, while the lower order positions maintain the high variability.**"
      ]
    },
    {
      "cell_type": "markdown",
      "metadata": {
        "id": "3Upr5o-uSXHD"
      },
      "source": [
        "# Submission Instructions\n",
        "\n",
        "Once you have filled out the Colab notebook completely, you are ready to submit. Your final submission will consist of the `.ipynb` and the `.pdf` files, as described below:\n",
        "\n",
        "1. Download the Google Colab notebook as an iPython notebook\n",
        "   * You can do this by going to *File \\> Download .ipynb*\n",
        "2. Print out a PDF of your Colab notebook.\n",
        "   * In Google Chrome, you can do this by going to *File \\> Print* and then choosing *Save to PDF*.\n",
        "   * **Make sure you have run all cells first.**\n",
        "   * Ensure you've closed the table of contents sidebar before you print so we can easily see your work and output.\n",
        "3. Submit **both** the `.ipynb` notebook and the `.pdf` files via Blackboard or directly via the cloud using the Google Integration with Blackboard (if applicable).\n",
        "\n",
        "---"
      ]
    }
  ],
  "metadata": {
    "colab": {
      "provenance": [],
      "collapsed_sections": [],
      "toc_visible": true,
      "include_colab_link": true
    },
    "language_info": {
      "name": "python"
    },
    "kernelspec": {
      "name": "python3",
      "display_name": "Python 3"
    },
    "gpuClass": "standard"
  },
  "nbformat": 4,
  "nbformat_minor": 0
}